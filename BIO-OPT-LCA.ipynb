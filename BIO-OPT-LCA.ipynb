{
 "cells": [
  {
   "cell_type": "markdown",
   "metadata": {},
   "source": [
    "# Developing an analytical platform for evaluating the role of forest biorefineries in achieving a sustainable bioeconomy"
   ]
  },
  {
   "cell_type": "markdown",
   "metadata": {},
   "source": [
    "Objectives:\n",
    "--------------\n",
    "This script aims to assess the environmental performance of various biochemicals by using Brightway2 frameworks. Specifically, it evaluates the environmental footprints of key bio-based chemicals.\n",
    "\n",
    "The targeted biochemicals include:<br>\n",
    "Bioethanol<br>\n",
    "Furfural<br>\n",
    "Vanillin<br>\n",
    "These chemicals are analyzed in terms of their production processes, greenhouse gas emissions, and energy consumption.\n",
    "\n",
    "\n",
    "Key Indicators:\n",
    "--------------\n",
    "The code focuses on major environmental performance indicator:\n",
    "\n",
    "Greenhouse Gas Emissions: Evaluated using the Life Cycle Assessment (LCA) framework to capture the global warming potential (GWP) of each chemical process.\n",
    "\n",
    "\n",
    "Requirements:\n",
    "-------------\n",
    "The following Python libraries and tools are essential for running the LCA script:\n",
    "\n",
    "1. `brightway2`: A framework for Life Cycle Assessment (LCA) in Python. Install with: `pip install brightway2==2.3`\n",
    "\n",
    "2. `bw2analyzer`: Provides advanced analysis capabilities for Brightway2. Install with: `pip install bw2analyzer==0.10`\n",
    "\n",
    "3. `bw2calc`: Used for performing calculations in Brightway2. Install with: `pip install bw2calc==1.8.0`\n",
    "\n",
    "4. `bw2data`: Handles the data storage for Brightway2. Install with: `pip install bw2data==3.6.2`\n",
    "\n",
    "5. `stats-arrays`: A package for uncertainty analysis using Brightway2. Install with: `pip install stats-arrays==0.6.5`\n",
    "\n",
    "6. `pandas`: Used for data manipulation and analysis, particularly for reading and writing data from various file formats. Install with: `pip install pandas==1.3.3`\n",
    "\n",
    "7. `numpy`: Used for numerical operations and handling of arrays. Install with: `pip install numpy==1.21.2`\n",
    "\n",
    "8. `plotly`: A graphing library used to create interactive visualizations. Install with: `pip install plotly==5.15.0`"
   ]
  },
  {
   "cell_type": "markdown",
   "metadata": {},
   "source": [
    "## Life cycle assessment"
   ]
  },
  {
   "cell_type": "code",
   "execution_count": null,
   "metadata": {},
   "outputs": [],
   "source": [
    "from brightway2 import* #import packages; \n",
    "from bw2analyzer import ContributionAnalysis\n",
    "import stats_arrays\n",
    "from bw2analyzer import traverse_tagged_databases\n",
    "from bw2analyzer.tagged import recurse_tagged_database\n",
    "import collections\n",
    "import pandas as pd\n",
    "import numpy as np\n",
    "import matplotlib.pyplot as plt\n",
    "import plotly.graph_objects as go\n",
    "from plotly.offline import plot"
   ]
  },
  {
   "cell_type": "code",
   "execution_count": null,
   "metadata": {},
   "outputs": [],
   "source": [
    "class biorefinery_LCA:\n",
    "    def __init__ (self,project_name):\n",
    "        self.project_name=project_name\n",
    "        projects.set_current(self.project_name)\n",
    "        print (projects.current)  \n",
    "        self.analysis_done = False  # Initialize to False when object is created\n",
    "        self.LCA_results_dict = {}  # Ensure this dictionary is properly initialized\n",
    "        \n",
    "        ##set up default dataset (biosphere3) and LCIA methods for current project\n",
    "        bw2setup()\n",
    "        \n",
    "    def import_db (self,db_path_name_dict):\n",
    "        self.db_path_name_dict=db_path_name_dict\n",
    "        \n",
    "        for key, val in self.db_path_name_dict.items():\n",
    "            self.db_location=val\n",
    "            self.db_name=key\n",
    "            \n",
    "            import_obj=SingleOutputEcospold2Importer(\n",
    "                self.db_location,\n",
    "                self.db_name)\n",
    "            import_obj.apply_strategies()\n",
    "            import_obj.statistics()\n",
    "            \n",
    "            ##write database\n",
    "            import_obj.write_database()\n",
    "            \n",
    "    def import_foreground (self,forground_db_name,input_file_path,db_mapping_dict):\n",
    "        ##prepare foreground db\n",
    "        self.forground_db_name=forground_db_name #this must be identical to the \"Database\" name in the input spreadsheet \n",
    "        self.input_file_path=input_file_path\n",
    "        self.db_mapping_dict=db_mapping_dict #{db_name:('field_1','field_2',...)}\n",
    "        \n",
    "        self.import_foreground_obj=ExcelImporter(self.input_file_path)\n",
    "        self.import_foreground_obj.apply_strategies()\n",
    "        for db_name,fields_to_map in self.db_mapping_dict.items():\n",
    "            if db_name=='self':\n",
    "                self.import_foreground_obj.match_database(fields=fields_to_map) #link within the foreground processes\n",
    "            else:\n",
    "                self.import_foreground_obj.match_database(db_name,fields=fields_to_map) #mapping to processes in other db\n",
    "        self.import_foreground_obj.statistics()\n",
    "        self.import_foreground_obj.write_excel(only_unlinked=True)\n",
    "        \n",
    "        self.import_foreground_obj.write_database()\n",
    "        self.foreground_db=Database(forground_db_name)\n",
    "        \n",
    "# Vanillin can be modified to bioethanol, furfural, or any other biochemical under study \n",
    "    def calc_lca(self, lcia_methods, db, FU_codes, vanillin_production, calc_done=False):\n",
    "            self.FU_codes = FU_codes\n",
    "            self.lcia_methods = lcia_methods\n",
    "            self.calc_done = calc_done\n",
    "\n",
    "            ##create dict to store: (1) LCA results, (2) top processes (including backgr db)\n",
    "            self.LCA_results_dict = {}\n",
    "            self.top_processes_dict = {}\n",
    "\n",
    "            ##create a ContributionAnalysis object\n",
    "            self.contribut_anal_obj = ContributionAnalysis()\n",
    "\n",
    "            # Iterate over each functional unit code\n",
    "            for FU_name, FU_code in self.FU_codes.items():\n",
    "                # Find the activity in the database corresponding to the FU code\n",
    "                FU_activity = [act for act in db if act['code'] == FU_code][0]\n",
    "                #amount_FU = 1  # or any other amount that you wish to use\n",
    "\n",
    "                # Set the amount of FU based on vanillin production \n",
    "                amount_FU = vanillin_production[FU_name]  # Use the actual vanillin production value\n",
    "\n",
    "                                \n",
    "                # Iterate over each LCIA method\n",
    "                for method in self.lcia_methods:\n",
    "                    self.lca = LCA({FU_activity: amount_FU}, method)\n",
    "                    self.lca.lci()\n",
    "                    self.lca.lcia()\n",
    "\n",
    "                    # Store the results under the FU name\n",
    "                    if FU_name not in self.LCA_results_dict:\n",
    "                        self.LCA_results_dict[FU_name] = {}\n",
    "                    self.LCA_results_dict[FU_name][method] = self.lca.score\n",
    "\n",
    "                    if FU_name not in self.top_processes_dict:\n",
    "                        self.top_processes_dict[FU_name] = {}\n",
    "                    self.top_processes_dict[FU_name][method] = self.contribut_anal_obj.annotated_top_processes(self.lca)\n",
    "\n",
    "            ##update the label to True\n",
    "            self.calc_done = True\n",
    "\n",
    "    def print_lca_results(self):\n",
    "            # Print out the LCA results for all products\n",
    "        for product, methods_results in self.LCA_results_dict.items():\n",
    "            print(f\"LCA Results for {product}:\")\n",
    "            for method, score in methods_results.items():\n",
    "                print(f\"  Method: {method}, Score: {score}\")\n",
    "            print()  # Adds a blank line for better readability\n",
    "\n",
    "    \n",
    "    def analyze_lca (self,impact_of_interest,n_top_items=5,analysis_done=False):\n",
    "        self.impact_of_interest=impact_of_interest\n",
    "        self.n_top_items=n_top_items #number of top items (e.g., top processes) of interest\n",
    "        assert self.impact_of_interest in self.LCA_results_dict.keys(), \"This method is not in your LCIA method list!\"\n",
    "        self.analysis_done= True #analysis_done\n",
    "        ##create a dict to store impact results by 'group_tag' (technoshpere exchanges only)\n",
    "        self.techno_impact_results_grouped=collections.defaultdict(list)\n",
    "        \n",
    "        \n",
    "        while not self.analysis_done: #if analysis has not been done yet\n",
    "            ##find top technosphere processes (including background db)\n",
    "            self.top_processes={self.impact_of_interest : self.top_processes_dict[self.impact_of_interest][:self.n_top_items+1]}\n",
    "            ##group the results by tag\n",
    "            for exc in self.FU_activity.technosphere():\n",
    "                self.lca2=LCA({exc.input : exc['amount']},\n",
    "                               self.impact_of_interest)\n",
    "                self.lca2.lci()\n",
    "                self.lca2.lcia()\n",
    "                self.techno_impact_results_grouped[exc['group_tag']].append(self.lca2.score)\n",
    "            \n",
    "            self.techno_impact_results_grouped={key : sum(val) for key, val in self.techno_impact_results_grouped.items()}\n",
    "            \n",
    "            ##finally, update the label to True\n",
    "            self.analysis_done=True\n",
    "            \n",
    "            \n",
    "    def gen_fig (self,data_to_plot_dict,plot_type,x_label,y_label):\n",
    "        assert self.analysis_done==True,\"please run the 'analyze_lca' method first!\"        \n",
    "        \n",
    "        self.data_to_plot_dict=data_to_plot_dict #input data must be in the dict form\n",
    "        self.df_for_plot=pd.DataFrame.from_dict([self.data_to_plot_dict]) #convert to a pandas dataframe for plotting\n",
    "        \n",
    "        if plot_type=='bar plot':\n",
    "            ##bar chart for top processes (x-axis=impact results, y-axis=process names)\n",
    "            ax=self.df_for_plot.plot(kind='barh')\n",
    "            ax.set_xlabel(x_label, labelpad=20, weight='bold', size=12)\n",
    "            ax.set_ylabel(y_label, labelpad=20, weight='bold', size=12)\n",
    "        elif plot_type=='waterfall chart':\n",
    "            ##waterfall chart for \"group_tag\" results (x-axis=group names, y-axis=impact results)\n",
    "            #prepare param for Plotly\n",
    "            measure_type=['relative']*len(self.df_for_plot.columns) #first n columns of the waterfall chart \n",
    "                #should represent relative changes from each column (e.g., waste treatment) of the dataframe\n",
    "            measure_type.append('total') #add a represenation of net impact which is the total (sum) of individial changes\n",
    "            self.df_for_plot['net']=self.df_for_plot.values.sum()#add a column corresponding to net impact\n",
    "            values_to_plot=[val for lst in self.df_for_plot.values.tolist() for val in lst] #flatten the nested list of df.values\n",
    "            values_as_text=[str(round(val,1)) for val in values_to_plot]\n",
    "            waterfall_x_label=list(self.df_for_plot.columns)\n",
    "\n",
    "            \n",
    "            #create the plot object\n",
    "            fig = go.Figure(go.Waterfall(\n",
    "                    name = '-'.join(self.impact_of_interest), orientation = \"v\",\n",
    "                    measure = measure_type,\n",
    "                    x = waterfall_x_label,\n",
    "                    textposition = \"outside\",\n",
    "                    text = values_as_text,\n",
    "                    y = values_to_plot,\n",
    "                    connector = {\"line\":{\"color\":\"rgb(63, 63, 63)\"}},\n",
    "                    ))\n",
    "            \n",
    "            fig.update_layout(\n",
    "                    showlegend = True)\n",
    "            \n",
    "            fig.show() #only works if you are using Jupyter Notebook\n",
    "            #plot(fig) #works for spyder, will create a temp html file to host the fig\n",
    "            \n",
    "        else:\n",
    "            print (\"Please choose 'bar plot' or 'waterfall chart' \")\n",
    "            \n",
    "            \n",
    "    def gen_report (self):\n",
    "        assert self.analysis_done==True,\"please run the 'analyze_lca' method first!\"\n",
    "        pass\n",
    "    \n",
    "    "
   ]
  },
  {
   "cell_type": "code",
   "execution_count": null,
   "metadata": {},
   "outputs": [],
   "source": [
    "lca_obj=biorefinery_LCA('LCA_module')"
   ]
  },
  {
   "cell_type": "code",
   "execution_count": null,
   "metadata": {},
   "outputs": [],
   "source": [
    "import brightway2 as bw\n",
    "ei37dir =\"./datasets e.g. ecoinvent\"    #Set the directory path to the local 'datasets' folder containing ecoinvent files\n",
    "if 'ecoinvent 3.7 cutoff' in bw.databases:\n",
    "    print(\"Database has already been imported\")\n",
    "else:\n",
    "    ei37 = bw.SingleOutputEcospold2Importer(ei37dir, 'ecoinvent 3.7 cutoff') # You can give it another name of course\n",
    "    ei37.apply_strategies()\n",
    "    ei37.statistics()\n",
    "    print(\"ei37 has been defined\")\n",
    "    ei37.write_database() # This will take some time.    \n",
    "    "
   ]
  },
  {
   "cell_type": "code",
   "execution_count": null,
   "metadata": {},
   "outputs": [],
   "source": [
    "# Load the biosphere database\n",
    "biosphere = bw.Database('biosphere3')\n",
    "\n",
    "# Check the number of flows in the biosphere database\n",
    "print(\"Number of flows in biosphere3:\", len(biosphere))"
   ]
  },
  {
   "cell_type": "code",
   "execution_count": null,
   "metadata": {},
   "outputs": [],
   "source": [
    " bw.projects.output_dir"
   ]
  },
  {
   "cell_type": "code",
   "execution_count": null,
   "metadata": {},
   "outputs": [],
   "source": [
    "##load foreground LCI #OOO#\n",
    "forground_db_name=\"Vanillin\"\n",
    "input_file_path= \"./input/Vanillin.xlsx\" # Set the path to the Vanillin.xlsx input file (assumed to be in the local 'input' folder)\n",
    "\n",
    "db_mapping_dict={\"self\":('name', 'unit', 'location','reference product'),\n",
    "                 \"ecoinvent 3.7 cutoff\":('name', 'unit', 'location','reference product')}\n",
    "lca_obj.import_foreground(forground_db_name,input_file_path,db_mapping_dict)"
   ]
  },
  {
   "cell_type": "code",
   "execution_count": null,
   "metadata": {},
   "outputs": [],
   "source": [
    "#OOO#\n",
    "db_name = 'Vanillin'\n",
    "\n",
    "# Check if the database exists\n",
    "if db_name in databases:\n",
    "    print(f\"Database '{db_name}' exists.\")\n",
    "    # List all activities in the database\n",
    "    db = Database(db_name)\n",
    "    for activity in db:\n",
    "        print(activity)\n",
    "else:\n",
    "    print(f\"Database '{db_name}' does not exist.\")"
   ]
  },
  {
   "cell_type": "code",
   "execution_count": null,
   "metadata": {},
   "outputs": [],
   "source": [
    "# Initialize an empty dictionary to store vanillin production values \n",
    "vanillin_production_values = {}\n",
    "\n",
    "# Loop through the database to find all production exchanges and store them in the dictionary \n",
    "for activity in db:\n",
    "    for exc in activity.exchanges():\n",
    "        if exc['type'] == 'production' and 'Vanillin' in exc['name']:\n",
    "            # Add the production name and amount to the dictionary\n",
    "            vanillin_production_values[exc['name']] = exc['amount']\n",
    "\n",
    "# Print the generated dictionary\n",
    "print(vanillin_production_values)"
   ]
  },
  {
   "cell_type": "code",
   "execution_count": null,
   "metadata": {},
   "outputs": [],
   "source": [
    "for activity in db:\n",
    "    for exc in activity.exchanges():\n",
    "        if exc['type'] == 'production':\n",
    "            print(exc['name'], exc['amount'])"
   ]
  },
  {
   "cell_type": "code",
   "execution_count": null,
   "metadata": {},
   "outputs": [],
   "source": [
    "from brightway2 import methods\n",
    "print(methods)"
   ]
  },
  {
   "cell_type": "code",
   "execution_count": null,
   "metadata": {},
   "outputs": [],
   "source": [
    "list(methods)"
   ]
  },
  {
   "cell_type": "code",
   "execution_count": null,
   "metadata": {},
   "outputs": [],
   "source": [
    "if not lca_obj.foreground_db:\n",
    "    print(\"The database is empty or not loaded properly.\")\n",
    "else:\n",
    "    print(f\"The database contains {len(lca_obj.foreground_db)} activities.\")\n"
   ]
  },
  {
   "cell_type": "code",
   "execution_count": null,
   "metadata": {},
   "outputs": [],
   "source": [
    "lca_obj.foreground_db = Database(\"Vanillin\")  # Make sure the database is initialized correctly #OOO#"
   ]
  },
  {
   "cell_type": "code",
   "execution_count": null,
   "metadata": {},
   "outputs": [],
   "source": [
    "# Generate functional unit codes from 100% woodchips to 1% woodchips #OOO#\n",
    "FU_codes = {f'Vanillin {i}% production': f'ThisIsFU{i}' for i in range(100, 0, -1)}"
   ]
  },
  {
   "cell_type": "code",
   "execution_count": null,
   "metadata": {},
   "outputs": [],
   "source": [
    "# Display the generated functional unit codes\n",
    "for key, value in FU_codes.items():\n",
    "    print(f'{key}: {value}')"
   ]
  },
  {
   "cell_type": "code",
   "execution_count": null,
   "metadata": {},
   "outputs": [],
   "source": [
    "#lcia_methods=[('CML 2001 (obsolete)', 'climate change', 'GWP 100a')]\n",
    "lcia_methods=[('TRACI (obsolete)', 'environmental impact', 'global warming')]"
   ]
  },
  {
   "cell_type": "code",
   "execution_count": null,
   "metadata": {},
   "outputs": [],
   "source": [
    "lca_obj.calc_lca(lcia_methods, lca_obj.foreground_db, FU_codes, vanillin_production_values)##calculate LCA results #OOO#"
   ]
  },
  {
   "cell_type": "code",
   "execution_count": null,
   "metadata": {},
   "outputs": [],
   "source": [
    "# Print out the LCA results for all products\n",
    "for product, results in lca_obj.LCA_results_dict.items():\n",
    "    print(f\"LCA Results for {product}:\")\n",
    "    for method, score in results.items():\n",
    "        print(f\"  Method: {method}, Score: {score}\")\n",
    "    print()  # Adds a blank line for better readability"
   ]
  }
 ],
 "metadata": {
  "kernelspec": {
   "display_name": "Python 3 (ipykernel)",
   "language": "python",
   "name": "python3"
  },
  "language_info": {
   "codemirror_mode": {
    "name": "ipython",
    "version": 3
   },
   "file_extension": ".py",
   "mimetype": "text/x-python",
   "name": "python",
   "nbconvert_exporter": "python",
   "pygments_lexer": "ipython3",
   "version": "3.9.7"
  }
 },
 "nbformat": 4,
 "nbformat_minor": 2
}
