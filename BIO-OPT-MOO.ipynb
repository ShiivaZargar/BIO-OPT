{
 "cells": [
  {
   "cell_type": "markdown",
   "metadata": {},
   "source": [
    "# Developing an analytical platform for evaluating the role of forest biorefineries in achieving a sustainable bioeconomy"
   ]
  },
  {
   "cell_type": "markdown",
   "metadata": {},
   "source": [
    "The goal of this script is to optimize a biorefinery from environmental and economic perspectives, providing exact Pareto-optimal solutions for minimizing global warming potential (GWP) and maximizing net present value (NPV).\n",
    "\n",
    "The optimization uses a multi-objective optimization (MOO) approach with non-dominated sorting to identify the best trade-offs between GWP and NPV. This approach ensures that the solutions provided come directly from the original dataset without modification or evolution, unlike genetic algorithms such as NSGA-II.\n",
    "\n",
    "\n",
    "Key Variables:\n",
    "--------------\n",
    "- GWP per unit production of bioethanol, furfural, and vanillin.\n",
    "- NPV for the three biochemicals.\n",
    "- Conversion efficiencies (kg product/kg woodchips).\n",
    "- Constraints ensure that the total woodchips used is exactly 100 kg and that all products must be produced in non-zero quantities.\n",
    "\n",
    "\n",
    "Requirements:\n",
    "-------------\n",
    "1. `numpy`: Used for numerical operations, such as the handling of arrays.\n",
    "   Install with: `pip install numpy==1.21.2`\n",
    "      \n",
    "2. `pandas`: Used for data manipulation and analysis, particularly for reading data from Excel files.\n",
    "   Install with: `pip install pandas==1.3.3`\n",
    "   \n",
    "3. `matplotlib`: Used for visualizing the Pareto front of optimal solutions.\n",
    "   Install with: `pip install matplotlib==3.4.3`\n",
    "\n",
    "Steps in the Script:\n",
    "--------------------\n",
    "1. **Define the problem**: The biorefinery optimization problem is defined as minimizing GWP emissions and maximizing NPV. \n",
    "2. **Set constraints**: The total woodchips used must be 100 kg, and non-zero production of all three biochemicals is required.\n",
    "3. **Non-dominated sorting**: The algorithm checks each point in the dataset and identifies whether it is dominated by any other point in terms of both GWP and NPV. Non-dominated solutions from the exact Pareto front.\n",
    "4. **Visualize results**: The Pareto front is plotted to show the trade-offs between GWP and NPV.\n",
    "5. **Display optimal production amounts**: The optimal production amounts for bioethanol, furfural, and vanillin are displayed for each solution on the Pareto front.\n"
   ]
  },
  {
   "cell_type": "code",
   "execution_count": null,
   "metadata": {},
   "outputs": [],
   "source": [
    "import pandas as pd\n",
    "import numpy as np\n",
    "import matplotlib.pyplot as plt"
   ]
  },
  {
   "cell_type": "code",
   "execution_count": null,
   "metadata": {},
   "outputs": [],
   "source": [
    "# Load your Excel sheet\n",
    "file_path = r \"./input/Curating_LCA_and_NPV.xlsx\"  # Set the file path to your input Excel file (assumed to be in a local 'input' folder)\n",
    "\n",
    "df = pd.read_excel(file_path)"
   ]
  },
  {
   "cell_type": "code",
   "execution_count": null,
   "metadata": {},
   "outputs": [],
   "source": [
    "# Extract GWP and NPV from columns (GWP in 16th, NPV in 20th)\n",
    "GWP = df.iloc[0:, 15].values  # Column 16 (zero-indexed)\n",
    "NPV = df.iloc[0:, 19].values  # Column 20 (zero-indexed)"
   ]
  },
  {
   "cell_type": "code",
   "execution_count": null,
   "metadata": {},
   "outputs": [],
   "source": [
    "bioethanol_percent = df.iloc[:, 0].values  \n",
    "vanillin_percent = df.iloc[:, 1].values \n",
    "furfural_percent = df.iloc[:, 2].values "
   ]
  },
  {
   "cell_type": "code",
   "execution_count": null,
   "metadata": {},
   "outputs": [],
   "source": [
    "# Filter out solutions with negative NPV and prepare the filtered dataset\n",
    "filtered_data = [(gwp, npv, bioethanol_percent[i], vanillin_percent[i], furfural_percent[i]) \n",
    "                 for i, (gwp, npv) in enumerate(zip(GWP, NPV)) if npv > 0]"
   ]
  },
  {
   "cell_type": "code",
   "execution_count": null,
   "metadata": {},
   "outputs": [],
   "source": [
    "# Separate filtered GWP, NPV, and product percentages for use in Pareto sorting\n",
    "GWP_filtered = [point[0] for point in filtered_data]\n",
    "NPV_filtered = [point[1] for point in filtered_data]\n",
    "bioethanol_filtered = [point[2] for point in filtered_data]\n",
    "vanillin_filtered = [point[3] for point in filtered_data]\n",
    "furfural_filtered = [point[4] for point in filtered_data]"
   ]
  },
  {
   "cell_type": "code",
   "execution_count": null,
   "metadata": {},
   "outputs": [],
   "source": [
    "# Function to identify Pareto front\n",
    "def is_dominated(point, others):\n",
    "    \"\"\"Check if a point is dominated by any in the list.\"\"\"\n",
    "    for other in others:\n",
    "        if (other[0] <= point[0] and other[1] >= point[1]) and (other != point):\n",
    "            return True\n",
    "    return False\n",
    "\n",
    "filtered_points = list(zip(GWP_filtered, NPV_filtered))\n",
    "pareto_front = [point for point in filtered_points if not is_dominated(point, filtered_points)]\n",
    "\n",
    "optimal_indices = [filtered_points.index(ind) for ind in pareto_front]\n"
   ]
  },
  {
   "cell_type": "code",
   "execution_count": null,
   "metadata": {},
   "outputs": [],
   "source": [
    "# Extract Pareto-optimal GWP, NPV, and corresponding percentages for each biochemical\n",
    "pareto_GWP = [point[0] for point in pareto_front]\n",
    "pareto_NPV = [point[1] for point in pareto_front]\n",
    "pareto_bioethanol = [bioethanol_filtered[idx] for idx in optimal_indices]\n",
    "pareto_vanillin = [vanillin_filtered[idx] for idx in optimal_indices]\n",
    "pareto_furfural = [furfural_filtered[idx] for idx in optimal_indices]"
   ]
  },
  {
   "cell_type": "code",
   "execution_count": null,
   "metadata": {},
   "outputs": [],
   "source": [
    "# Plot the results\n",
    "plt.scatter(GWP_filtered, NPV_filtered, label='All Solutions', color='blue')\n",
    "plt.scatter(pareto_GWP, pareto_NPV, color='red', label='Pareto Front')\n",
    "plt.xlabel('GWP')\n",
    "plt.ylabel('NPV')\n",
    "plt.title('Pareto-Optimal Solutions')\n",
    "plt.legend()\n",
    "plt.grid(True)\n",
    "plt.show()"
   ]
  },
  {
   "cell_type": "code",
   "execution_count": null,
   "metadata": {},
   "outputs": [],
   "source": [
    "# Create a DataFrame from the Pareto-optimal solutions with the respective percentages\n",
    "pareto_df = pd.DataFrame({\n",
    "    'Total GWP': pareto_GWP,\n",
    "    'Total NPV': pareto_NPV,\n",
    "    'Bioethanol %': pareto_bioethanol,\n",
    "    'Vanillin %': pareto_vanillin,\n",
    "    'Furfural %': pareto_furfural\n",
    "})"
   ]
  },
  {
   "cell_type": "code",
   "execution_count": null,
   "metadata": {},
   "outputs": [],
   "source": [
    "# Save the Pareto-optimal solutions along with the percentage breakdowns to an Excel file\n",
    "output_file_path = 'Pareto Optimal Solutions V7.xlsx'\n",
    "pareto_df.to_excel(output_file_path, index=False)\n",
    "\n",
    "print(f\"Pareto-optimal solutions with percentage breakdowns saved to {output_file_path}\")"
   ]
  },
  {
   "cell_type": "code",
   "execution_count": null,
   "metadata": {},
   "outputs": [],
   "source": [
    "# Plot the results with customized settings\n",
    "fig, ax = plt.subplots(figsize=(8, 6))  # Adjust figure size as needed\n",
    "fig.patch.set_facecolor('white')  # Set the face color to white\n",
    "\n",
    "# Scatter plots for all solutions and Pareto front\n",
    "ax.scatter(GWP_filtered, NPV_filtered, label='All Solutions', color='lightblue')\n",
    "ax.scatter(pareto_GWP, pareto_NPV, color='green', label='Pareto Front')\n",
    "\n",
    "# Set labels with custom font properties\n",
    "ax.set_xlabel('GWP', fontname='Times New Roman', fontsize=12, fontweight='bold')\n",
    "ax.set_ylabel('NPV', fontname='Times New Roman', fontsize=12, fontweight='bold')\n",
    "\n",
    "# Move y-axis to the right\n",
    "ax.yaxis.tick_right()                 # Move y-axis ticks to the right\n",
    "ax.yaxis.set_label_position(\"right\")   # Move y-axis label to the right\n",
    "\n",
    "# Set title with custom font properties and padding\n",
    "ax.set_title('Multi-objective Optimization', fontname='Times New Roman', fontsize=16, fontweight='bold', pad=40)\n",
    "\n",
    "# Set x-axis and y-axis limits\n",
    "ax.set_xlim(-13000, 0)\n",
    "ax.set_ylim(0, 230000)\n",
    "\n",
    "# Remove the left and top spines for aesthetics\n",
    "ax.spines['left'].set_visible(False)\n",
    "ax.spines['top'].set_visible(False)\n",
    "\n",
    "# Modify legend to remove the box and set font size\n",
    "ax.legend(frameon=False, fontsize=8)\n",
    "\n",
    "# Show the plot\n",
    "plt.show()\n"
   ]
  },
  {
   "cell_type": "code",
   "execution_count": null,
   "metadata": {},
   "outputs": [],
   "source": [
    "min_gwp_index = np.argmin(pareto_GWP)  # Index of the point with the lowest GWP\n",
    "print(\"Lowest GWP Configuration:\")\n",
    "print(pareto_df.iloc[min_gwp_index])  # Print the configuration details\n"
   ]
  },
  {
   "cell_type": "code",
   "execution_count": null,
   "metadata": {},
   "outputs": [],
   "source": [
    "max_npv_index = np.argmax(pareto_NPV)  # Index of the point with the highest NPV\n",
    "print(\"Highest NPV Configuration:\")\n",
    "print(pareto_df.iloc[max_npv_index])  # Print the configuration details\n"
   ]
  },
  {
   "cell_type": "code",
   "execution_count": null,
   "metadata": {},
   "outputs": [],
   "source": [
    "from scipy.spatial.distance import euclidean\n",
    "\n",
    "# Define an ideal point (lowest GWP & highest NPV)\n",
    "ideal_gwp = min(pareto_GWP)\n",
    "ideal_npv = max(pareto_NPV)\n",
    "\n",
    "# Compute distances from ideal point\n",
    "distances = [euclidean((gwp, npv), (ideal_gwp, ideal_npv)) for gwp, npv in zip(pareto_GWP, pareto_NPV)]\n",
    "\n",
    "# Find the index of the knee point\n",
    "knee_index = np.argmin(distances)\n",
    "\n",
    "print(\"Balanced Trade-Off Configuration:\")\n",
    "print(pareto_df.iloc[knee_index])  # Print the configuration details\n"
   ]
  }
 ],
 "metadata": {
  "kernelspec": {
   "display_name": "Python 3 (ipykernel)",
   "language": "python",
   "name": "python3"
  },
  "language_info": {
   "codemirror_mode": {
    "name": "ipython",
    "version": 3
   },
   "file_extension": ".py",
   "mimetype": "text/x-python",
   "name": "python",
   "nbconvert_exporter": "python",
   "pygments_lexer": "ipython3",
   "version": "3.9.7"
  }
 },
 "nbformat": 4,
 "nbformat_minor": 2
}
